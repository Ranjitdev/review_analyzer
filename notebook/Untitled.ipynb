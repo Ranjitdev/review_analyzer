{
 "cells": [
  {
   "cell_type": "code",
   "execution_count": 1,
   "id": "47f83b47-8be3-497a-b885-c7aad7a97245",
   "metadata": {
    "tags": []
   },
   "outputs": [
    {
     "name": "stderr",
     "output_type": "stream",
     "text": [
      "[nltk_data] Downloading package stopwords to C:\\Users\\RANJIT\n",
      "[nltk_data]     PC\\AppData\\Roaming\\nltk_data...\n",
      "[nltk_data]   Package stopwords is already up-to-date!\n",
      "[nltk_data] Downloading package punkt to C:\\Users\\RANJIT\n",
      "[nltk_data]     PC\\AppData\\Roaming\\nltk_data...\n",
      "[nltk_data]   Package punkt is already up-to-date!\n",
      "[nltk_data] Downloading package wordnet to C:\\Users\\RANJIT\n",
      "[nltk_data]     PC\\AppData\\Roaming\\nltk_data...\n",
      "[nltk_data]   Package wordnet is already up-to-date!\n"
     ]
    }
   ],
   "source": [
    "from selenium import webdriver\n",
    "from selenium.webdriver.chrome.service import Service\n",
    "from selenium.webdriver.chrome.options import Options\n",
    "from webdriver_manager.chrome import ChromeDriverManager\n",
    "from selenium.webdriver.common.by import By\n",
    "from selenium.webdriver.common.keys import Keys\n",
    "from selenium.webdriver.common.action_chains import ActionChains\n",
    "from selenium.webdriver.support import expected_conditions as EC\n",
    "from selenium.webdriver.support.ui import WebDriverWait\n",
    "import time\n",
    "import requests\n",
    "from bs4 import BeautifulSoup\n",
    "import numpy as np\n",
    "import pandas as pd\n",
    "import nltk\n",
    "from nltk.stem import PorterStemmer, WordNetLemmatizer\n",
    "from nltk.tokenize import sent_tokenize, word_tokenize\n",
    "from nltk.corpus import stopwords\n",
    "import re\n",
    "nltk.download('stopwords')\n",
    "nltk.download('punkt')\n",
    "nltk.download('wordnet')\n",
    "stemmer = PorterStemmer()\n",
    "lemmatizer = WordNetLemmatizer()"
   ]
  },
  {
   "cell_type": "code",
   "execution_count": 2,
   "id": "c8acea74-5aef-43f0-b386-8c00f935997d",
   "metadata": {
    "tags": []
   },
   "outputs": [],
   "source": [
    "url = r'https://www.flipkart.com/vivo-t2x-5g-marine-blue-128-gb/p/itmcb8f0f6a85d5d?pid=MOBGZBFU4HBKKFSN&fm=organic&ppt=dynamic&ppn=dynamic&ssid=8s0u8f1q340000001694066529729'"
   ]
  },
  {
   "cell_type": "code",
   "execution_count": 3,
   "id": "9f8f78f9-7657-458e-8f86-8025d2971ea1",
   "metadata": {
    "tags": []
   },
   "outputs": [],
   "source": [
    "# service = Service(ChromeDriverManager().install())\n",
    "service = Service(executable_path=r'chromedriver-win64/chromedriver.exe')\n",
    "options = Options()\n",
    "options.add_argument(\"start-maximized\")\n",
    "options.add_argument(\"incognito\")\n",
    "options.add_argument(\"disable-extensions\")\n",
    "# options.add_argument(\"headless\")\n",
    "driver = webdriver.Chrome(service=service, options=options)\n",
    "actions = ActionChains(driver)"
   ]
  },
  {
   "cell_type": "code",
   "execution_count": 4,
   "id": "491811bc-aaf2-4dde-be63-96774f9cd81d",
   "metadata": {
    "tags": []
   },
   "outputs": [
    {
     "name": "stdout",
     "output_type": "stream",
     "text": [
      "https://www.flipkart.com/vivo-t2x-5g-marine-blue-128-gb/product-reviews/itmcb8f0f6a85d5d?pid=MOBGZBFU4HBKKFSN&lid=LSTMOBGZBFU4HBKKFSNRCJ28C&marketplace=FLIPKART&page=2\n"
     ]
    }
   ],
   "source": [
    "driver.get(url)\n",
    "time.sleep(5)\n",
    "all_comments = driver.find_element(By.CSS_SELECTOR, \"._3UAT2v\")\n",
    "all_comments.click()\n",
    "time.sleep(5)\n",
    "next_comments = driver.find_element(By.LINK_TEXT, \"NEXT\")\n",
    "next_comments.click()\n",
    "next_url = next_comments.get_attribute('href')\n",
    "print(next_url)\n",
    "driver.close()"
   ]
  },
  {
   "cell_type": "code",
   "execution_count": 30,
   "id": "9f70cc32-2320-4881-a081-e50106fcf70c",
   "metadata": {
    "tags": []
   },
   "outputs": [],
   "source": [
    "test = r'https://www.flipkart.com/infinix-inbook-y1-plus-intel-core-i3-10th-gen-1005g1-8-gb-256-gb-ssd-windows-11-home-xl28-thin-light-laptop/p/itm64fd5584698f7?pid=COMGMM3HY5EMNFZA&lid=LSTCOMGMM3HY5EMNFZAYFBZG8&marketplace=FLIPKART&q=laptop&store=6bo%2Fb5g&srno=s_1_1&otracker=AS_QueryStore_OrganicAutoSuggest_1_3_na_na_na&otracker1=AS_QueryStore_OrganicAutoSuggest_1_3_na_na_na&fm=search-autosuggest&iid=en_1nTT3caENQXJtRfbz2HuwRBYGYzl-5ecC8X4tlIXJhK0YciwA-9NC37cmqaVOou5je33Zl4s2Lz2iTwqKCeVFg%3D%3D&ppt=sp&ppn=sp&ssid=zdkojlsz4w0000001694116197551&qH=312f91285e048e09'\n",
    "raw_html = requests.get(next_url)\n",
    "parsed_html = BeautifulSoup(raw_html.content, features='html5lib')"
   ]
  },
  {
   "cell_type": "code",
   "execution_count": 6,
   "id": "2e6eff44-8c14-48f2-9a8c-8c6d22146339",
   "metadata": {
    "tags": []
   },
   "outputs": [
    {
     "name": "stdout",
     "output_type": "stream",
     "text": [
      "('5', 'Super!', 'Nice')\n",
      "('5', 'Mind-blowing purchase', 'Best  mobile phone')\n",
      "('5', 'Worth every penny', 'Nice Phone, Best Camera Performance, And Gaming Performance 80%,')\n",
      "('5', 'Great product', 'Thank You Flipkart Vivo T2x 5g')\n",
      "('5', 'Just wow!', 'I wrote this review after 15 days using..Battery backup is good...Camera is good...Finger print sensor very good...Speaker very good....No heating issue..Touch screen very good..Multi tasking performance very good....Build quality superb...Network connectivity awesome...18W charger is not good...100% charge it takes 1.5 hr....Overall vivo t2x is a great phone in this price range ...go for it....😍😍')\n",
      "('5', 'Perfect product!', 'Looks nice 👍')\n",
      "('5', 'Fabulous!', 'Performance battery camera everything is good 👍')\n",
      "('5', 'Perfect product!', 'Super 👍😊😊😊😊😊')\n",
      "('5', 'Mind-blowing purchase', 'Superb quality I love vivo 👌👌')\n",
      "('5', 'Perfect product!', 'Looks are amazing.Camera is also good.Night mode works well.Overall a decent 5g phone.90hz refresh rate must be there.')\n"
     ]
    }
   ],
   "source": [
    "comments = [comment.text.replace('READ MORE', '') for comment in parsed_html.find_all('div', attrs={'class': 't-ZTKy'})]\n",
    "ratings = [star.text for star in parsed_html.find_all('div', attrs={'class': '_3LWZlK _1BLPMq'})]\n",
    "heads = [head.text for head in parsed_html.find_all('p', attrs={'class': '_2-N8zT'})]\n",
    "for data in zip(ratings, heads, comments):\n",
    "    print(data)"
   ]
  },
  {
   "cell_type": "code",
   "execution_count": 7,
   "id": "92f5a1e7-d131-4cd5-8984-438752951f4f",
   "metadata": {
    "tags": []
   },
   "outputs": [
    {
     "data": {
      "text/plain": [
       "'4.4'"
      ]
     },
     "execution_count": 7,
     "metadata": {},
     "output_type": "execute_result"
    }
   ],
   "source": [
    "raw_html = requests.get(url)\n",
    "parsed_html = BeautifulSoup(raw_html.content, features='html5lib')\n",
    "rating = parsed_html.find_all('div', attrs={'class': '_2d4LTz'})[0].text\n",
    "rating"
   ]
  },
  {
   "cell_type": "code",
   "execution_count": 9,
   "id": "788f25b7-390b-425d-81b1-3082ba10d33d",
   "metadata": {
    "tags": []
   },
   "outputs": [
    {
     "data": {
      "text/html": [
       "<div>\n",
       "<style scoped>\n",
       "    .dataframe tbody tr th:only-of-type {\n",
       "        vertical-align: middle;\n",
       "    }\n",
       "\n",
       "    .dataframe tbody tr th {\n",
       "        vertical-align: top;\n",
       "    }\n",
       "\n",
       "    .dataframe thead th {\n",
       "        text-align: right;\n",
       "    }\n",
       "</style>\n",
       "<table border=\"1\" class=\"dataframe\">\n",
       "  <thead>\n",
       "    <tr style=\"text-align: right;\">\n",
       "      <th></th>\n",
       "      <th>0</th>\n",
       "    </tr>\n",
       "  </thead>\n",
       "  <tbody>\n",
       "    <tr>\n",
       "      <th>5★</th>\n",
       "      <td>85,111</td>\n",
       "    </tr>\n",
       "    <tr>\n",
       "      <th>4★</th>\n",
       "      <td>23,908</td>\n",
       "    </tr>\n",
       "    <tr>\n",
       "      <th>3★</th>\n",
       "      <td>7,587</td>\n",
       "    </tr>\n",
       "    <tr>\n",
       "      <th>2★</th>\n",
       "      <td>3,176</td>\n",
       "    </tr>\n",
       "    <tr>\n",
       "      <th>1★</th>\n",
       "      <td>6,725</td>\n",
       "    </tr>\n",
       "  </tbody>\n",
       "</table>\n",
       "</div>"
      ],
      "text/plain": [
       "         0\n",
       "5★  85,111\n",
       "4★  23,908\n",
       "3★   7,587\n",
       "2★   3,176\n",
       "1★   6,725"
      ]
     },
     "execution_count": 9,
     "metadata": {},
     "output_type": "execute_result"
    }
   ],
   "source": [
    "stars = parsed_html.find_all('div', attrs={'class': '_1uJVNT'})\n",
    "rating_division = {}\n",
    "count = 5\n",
    "for i in stars:\n",
    "    rating_division[str(count)+'★'] = i.text\n",
    "    count -= 1\n",
    "pd.DataFrame([rating_division]).T"
   ]
  },
  {
   "cell_type": "code",
   "execution_count": 10,
   "id": "bae454d0-8973-43db-b860-b642c643cc66",
   "metadata": {},
   "outputs": [
    {
     "data": {
      "text/plain": [
       "'85,111'"
      ]
     },
     "execution_count": 10,
     "metadata": {},
     "output_type": "execute_result"
    }
   ],
   "source": [
    "five_star = parsed_html.find_all('div', attrs={'class': '_1uJVNT'})[0].text\n",
    "five_star"
   ]
  },
  {
   "cell_type": "code",
   "execution_count": 11,
   "id": "2d40b0e1-ad41-4d94-99a3-9a7f5ebb1190",
   "metadata": {
    "tags": []
   },
   "outputs": [
    {
     "data": {
      "text/plain": [
       "['Nice',\n",
       " 'Best  mobile phone',\n",
       " 'Nice Phone, Best Camera Performance, And Gaming Performance 80%,',\n",
       " 'Thank You Flipkart Vivo T2x 5g',\n",
       " 'I wrote this review after 15 days using..Battery backup is good...Camera is good...Finger print sensor very good...Speaker very good....No heating issue..Touch screen very good..Multi tasking performance very good....Build quality superb...Network connectivity awesome...18W charger is not good...100% charge it takes 1.5 hr....Overall vivo t2x is a great phone in this price range ...go for it....😍😍',\n",
       " 'Looks nice 👍',\n",
       " 'Performance battery camera everything is good 👍',\n",
       " 'Super 👍😊😊😊😊😊',\n",
       " 'Superb quality I love vivo 👌👌',\n",
       " 'Looks are amazing.Camera is also good.Night mode works well.Overall a decent 5g phone.90hz refresh rate must be there.']"
      ]
     },
     "execution_count": 11,
     "metadata": {},
     "output_type": "execute_result"
    }
   ],
   "source": [
    "comments"
   ]
  },
  {
   "cell_type": "code",
   "execution_count": 15,
   "id": "5ea9cd11-19f0-4bb7-ac3b-d334ac374112",
   "metadata": {
    "tags": []
   },
   "outputs": [],
   "source": [
    "def possitive_words():\n",
    "    out = []\n",
    "    with open('positive.txt', 'r') as file:\n",
    "        for line in file.readlines():\n",
    "            word = stemmer.stem(line.replace('\\n', '').casefold())\n",
    "            out.append(word)\n",
    "    return out\n",
    "def negative_words():\n",
    "    out = []\n",
    "    with open('negative.txt', 'r') as file:\n",
    "        for line in file.readlines():\n",
    "            word = stemmer.stem(line.replace('\\n', '').casefold())\n",
    "            out.append(word)\n",
    "    return out"
   ]
  },
  {
   "cell_type": "code",
   "execution_count": 16,
   "id": "d94f8abb-61f4-41e8-be29-c00fb6b75db4",
   "metadata": {
    "tags": []
   },
   "outputs": [],
   "source": [
    "def clean_words(sentence):\n",
    "    result = []\n",
    "    sentence = re.sub('[^a-zA-Z]', ' ', sentence)\n",
    "    for word in word_tokenize(sentence):\n",
    "        word = stemmer.stem(word.casefold())\n",
    "        if word not in stopwords.words('english'):\n",
    "            result.append(word)\n",
    "    return result"
   ]
  },
  {
   "cell_type": "code",
   "execution_count": 17,
   "id": "e8c95cd1-b55d-4ae4-a346-3350bbe93d30",
   "metadata": {
    "tags": []
   },
   "outputs": [
    {
     "name": "stdout",
     "output_type": "stream",
     "text": [
      "['nice']\n",
      "['best', 'mobil', 'phone']\n",
      "['nice', 'phone', 'best', 'camera', 'perform', 'game', 'perform']\n",
      "['thank', 'flipkart', 'vivo', 'x', 'g']\n",
      "['wrote', 'thi', 'review', 'day', 'use', 'batteri', 'backup', 'good', 'camera', 'good', 'finger', 'print', 'sensor', 'veri', 'good', 'speaker', 'veri', 'good', 'heat', 'issu', 'touch', 'screen', 'veri', 'good', 'multi', 'task', 'perform', 'veri', 'good', 'build', 'qualiti', 'superb', 'network', 'connect', 'awesom', 'w', 'charger', 'good', 'charg', 'take', 'hr', 'overal', 'vivo', 'x', 'great', 'phone', 'thi', 'price', 'rang', 'go']\n",
      "['look', 'nice']\n",
      "['perform', 'batteri', 'camera', 'everyth', 'good']\n",
      "['super']\n",
      "['superb', 'qualiti', 'love', 'vivo']\n",
      "['look', 'amaz', 'camera', 'also', 'good', 'night', 'mode', 'work', 'well', 'overal', 'decent', 'g', 'phone', 'hz', 'refresh', 'rate', 'must']\n"
     ]
    }
   ],
   "source": [
    "for sentence in comments:\n",
    "    print(clean_words(sentence))"
   ]
  },
  {
   "cell_type": "code",
   "execution_count": 7,
   "id": "383db8c7-5989-488d-8fa8-8317da27a2d1",
   "metadata": {
    "tags": []
   },
   "outputs": [
    {
     "data": {
      "image/png": "[encoded data removed]",
      "text/plain": [
       "<Figure size 600x600 with 1 Axes>"
      ]
     },
     "metadata": {},
     "output_type": "display_data"
    }
   ],
   "source": [
    "import matplotlib.pyplot as plt\n",
    "import matplotlib.patches as patches\n",
    "import numpy as np\n",
    "\n",
    "def create_speedometer(speed):\n",
    "    # Ensure the speed is within the range [0, 100]\n",
    "    speed = max(0, min(speed, 100))\n",
    "    \n",
    "    fig, ax = plt.subplots(figsize=(6, 6))\n",
    "\n",
    "    # Create the speedometer background\n",
    "    ax.add_patch(plt.Circle((0.5, 0.5), 0.4, color='lightgray'))\n",
    "    ax.add_patch(plt.Circle((0.5, 0.5), 0.35, color='white'))\n",
    "\n",
    "    # Create the speedometer arc\n",
    "    theta = np.linspace(0, np.pi, 100)\n",
    "    x = 0.5 + 0.35 * np.cos(theta)\n",
    "    y = 0.5 + 0.35 * np.sin(theta)\n",
    "    ax.fill(x, y, color='red', alpha=0.7)\n",
    "\n",
    "    # Create the needle indicating the speed\n",
    "    needle_length = 0.25\n",
    "    needle_angle = (speed / 100) * np.pi\n",
    "    needle_x = 0.5 + needle_length * np.cos(needle_angle - np.pi / 2)\n",
    "    needle_y = 0.5 + needle_length * np.sin(needle_angle - np.pi / 2)\n",
    "    ax.add_patch(patches.FancyArrow(0.5, 0.5, needle_x - 0.5, needle_y - 0.5, width=0.01, color='black'))\n",
    "\n",
    "    # Add labels for 0 and 100\n",
    "    ax.text(0.45, 0.52, '0', fontsize=12, color='black')\n",
    "    ax.text(0.62, 0.52, '100', fontsize=12, color='black')\n",
    "\n",
    "    # Set axis limits and remove ticks\n",
    "    ax.set_xlim(0, 1)\n",
    "    ax.set_ylim(0, 1)\n",
    "    ax.axis('off')\n",
    "\n",
    "    plt.show()\n",
    "\n",
    "# Test the function with a speed value between 0 and 100\n",
    "speed_value = 75\n",
    "create_speedometer(speed_value)\n"
   ]
  },
  {
   "cell_type": "code",
   "execution_count": 159,
   "id": "54d37c68-4bd7-4cf4-9672-20bbeda252ca",
   "metadata": {
    "tags": []
   },
   "outputs": [
    {
     "data": {
      "image/png": "[encoded data removed]",
      "text/plain": [
       "<Figure size 400x100 with 1 Axes>"
      ]
     },
     "metadata": {},
     "output_type": "display_data"
    }
   ],
   "source": [
    "import matplotlib.pyplot as plt\n",
    "\n",
    "def create_speedometer(positivity):\n",
    "    percent = max(0, min(positivity, 100))\n",
    "\n",
    "    fig, ax = plt.subplots(figsize=(4, 1))\n",
    "    ax.add_patch(plt.Rectangle((0, 0), 1, 0.5, alpha=0.4, hatch='|', edgecolor='#010045', facecolor='#f3ff05'))\n",
    "    ax.add_patch(plt.Rectangle((0, 0), percent / 100, 0.5, edgecolor='#007d00', facecolor='#00ff00'))\n",
    "\n",
    "    ax.text(0.01, 0.15, f'Positivity {percent}%', fontsize=14, color='black', fontweight='bold')\n",
    "    ax.set_xlim(0, 1)\n",
    "    ax.set_ylim(0, 1)\n",
    "    ax.axis('off')\n",
    "    plt.title(f'Positive vs Negative Words')\n",
    "\n",
    "    plt.show()\n",
    "speed_value = 75\n",
    "create_speedometer(speed_value)\n"
   ]
  },
  {
   "cell_type": "code",
   "execution_count": 66,
   "id": "d556856e-0553-43e3-855e-b2c52781890f",
   "metadata": {
    "tags": []
   },
   "outputs": [
    {
     "data": {
      "image/png": "[encoded data removed]",
      "text/plain": [
       "<Figure size 300x100 with 1 Axes>"
      ]
     },
     "metadata": {},
     "output_type": "display_data"
    }
   ],
   "source": [
    "import matplotlib.pyplot as plt\n",
    "\n",
    "def create_speedometer(speed):\n",
    "    speed = max(0, min(speed, 100))\n",
    "    \n",
    "    fig, ax = plt.subplots(figsize=(3, 1))\n",
    "    ax.add_patch(plt.Rectangle((0, 0), 1, 0.2, color='red'))\n",
    "    ax.add_patch(plt.Rectangle((0, 0), speed / 100, 0.2, color='green'))\n",
    "\n",
    "    ax.text(0, 0.3, '0', fontsize=10, color='black')\n",
    "    ax.text(0.93, 0.3, '100', fontsize=10, color='black')\n",
    "\n",
    "    # Add the speed value text\n",
    "    ax.text(speed / 200 - 0.02, 0.3, f'{speed}%', fontsize=12, color='black')\n",
    "\n",
    "    # Set axis limits and remove ticks\n",
    "    ax.set_xlim(0, 1)\n",
    "    ax.set_ylim(0, 1)\n",
    "    ax.axis('off')\n",
    "\n",
    "    plt.show()\n",
    "\n",
    "# Test the function with a speed value between 0 and 100\n",
    "speed_value = 75\n",
    "create_speedometer(speed_value)\n"
   ]
  }
 ],
 "metadata": {
  "kernelspec": {
   "display_name": "Python 3 (ipykernel)",
   "language": "python",
   "name": "python3"
  },
  "language_info": {
   "codemirror_mode": {
    "name": "ipython",
    "version": 3
   },
   "file_extension": ".py",
   "mimetype": "text/x-python",
   "name": "python",
   "nbconvert_exporter": "python",
   "pygments_lexer": "ipython3",
   "version": "3.11.4"
  },
  "widgets": {
   "application/vnd.jupyter.widget-state+json": {
    "state": {},
    "version_major": 2,
    "version_minor": 0
   }
  }
 },
 "nbformat": 4,
 "nbformat_minor": 5
}
